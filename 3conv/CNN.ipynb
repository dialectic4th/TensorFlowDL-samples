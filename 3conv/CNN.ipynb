{
 "cells": [
  {
   "cell_type": "code",
   "execution_count": 2,
   "metadata": {},
   "outputs": [
    {
     "name": "stdout",
     "output_type": "stream",
     "text": [
      "Extracting data/train-images-idx3-ubyte.gz\n",
      "Extracting data/train-labels-idx1-ubyte.gz\n",
      "Extracting data/t10k-images-idx3-ubyte.gz\n",
      "Extracting data/t10k-labels-idx1-ubyte.gz\n"
     ]
    }
   ],
   "source": [
    "from tensorflow.examples.tutorials.mnist import input_data\n",
    "import tensorflow as tf\n",
    "#mnistデータを格納したオブジェクトを呼び出す\n",
    "mnist = input_data.read_data_sets(\"data/\", one_hot=True);"
   ]
  },
  {
   "cell_type": "code",
   "execution_count": 3,
   "metadata": {},
   "outputs": [],
   "source": [
    "\"\"\"モデル構築開始\"\"\"\n",
    "#入力データを定義\n",
    "x = tf.placeholder(tf.float32, [None, 784])\n",
    "#整形\n",
    "img = tf.reshape(x,[-1,28,28,1])"
   ]
  },
  {
   "cell_type": "code",
   "execution_count": 6,
   "metadata": {},
   "outputs": [],
   "source": [
    "#畳み込み層1\n",
    "f1 = tf.Variable(tf.truncated_normal([5,5,1,32], stddev=0.1))#縦、横、画像のチャンネル数、出力時のチャンネル数\n",
    "conv1 = tf.nn.conv2d(img, f1, strides=[1,1,1,1], padding='SAME')#バッチ方向、縦方向、横方向、チャンネル数\n",
    "#SAMEでストライドが１のとき入力と同じ行列数になる。\n",
    "#VALIDでパディングなし\n",
    "b1 = tf.Variable(tf.constant(0.1, shape=[32]))\n",
    "h_conv1 = tf.nn.relu(conv1+b1)\n",
    "#プーリング層1（マックスプーリング）\n",
    "h_pool1 = tf.nn.max_pool(h_conv1, ksize=[1,2,2,1], strides=[1,2,2,1], padding='SAME')"
   ]
  },
  {
   "cell_type": "code",
   "execution_count": 7,
   "metadata": {},
   "outputs": [],
   "source": [
    "#畳み込み層2\n",
    "f2 = tf.Variable(tf.truncated_normal([5,5,32,64], stddev=0.1))#64に収めてる\n",
    "conv2 = tf.nn.conv2d(h_pool1, f2, strides=[1,1,1,1], padding='SAME')\n",
    "b2 = tf.Variable(tf.constant(0.1, shape=[64]))\n",
    "h_conv2 = tf.nn.relu(conv2+b2)\n",
    "#プーリング層2\n",
    "h_pool2 = tf.nn.max_pool(h_conv2, ksize=[1,2,2,1], strides=[1,2,2,1], padding='SAME')"
   ]
  },
  {
   "cell_type": "code",
   "execution_count": 8,
   "metadata": {},
   "outputs": [],
   "source": [
    "#畳み込まれているものをフラットな形に変換\n",
    "h_pool2_flat = tf.reshape(h_pool2, [-1, 7*7*64])\n",
    "\n",
    "#全結合層 \n",
    "w_fc1 = tf.Variable(tf.truncated_normal([7*7*64, 1024], stddev=0.1))#RELU関数に通す\n",
    "b_fc1 = tf.Variable(tf.constant(0.1, shape=[1024]))\n",
    "h_fc1 = tf.nn.relu(tf.matmul(h_pool2_flat, w_fc1) + b_fc1)"
   ]
  },
  {
   "cell_type": "code",
   "execution_count": 9,
   "metadata": {},
   "outputs": [],
   "source": [
    "#出力層\n",
    "w_fc2 = tf.Variable(tf.truncated_normal([1024, 10], stddev=0.1))\n",
    "b_fc2 = tf.Variable(tf.constant(0.1, shape=[10]))\n",
    "out = tf.nn.softmax(tf.matmul(h_fc1, w_fc2) + b_fc2)"
   ]
  },
  {
   "cell_type": "code",
   "execution_count": 10,
   "metadata": {},
   "outputs": [],
   "source": [
    "#正解データの型を定義\n",
    "y = tf.placeholder(tf.float32, [None, 10])\n",
    "#誤差関数（クロスエントロピー）\n",
    "loss = tf.reduce_mean(-tf.reduce_sum(y * tf.log(out + 1e-5), axis=[1]))\n",
    "\n",
    "#訓練\n",
    "train_step = tf.train.GradientDescentOptimizer(0.01).minimize(loss)\n",
    "\n",
    "#評価\n",
    "correct = tf.equal(tf.argmax(out,1), tf.argmax(y,1))\n",
    "accuracy = tf.reduce_mean(tf.cast(correct, tf.float32))"
   ]
  },
  {
   "cell_type": "code",
   "execution_count": 12,
   "metadata": {},
   "outputs": [
    {
     "name": "stdout",
     "output_type": "stream",
     "text": [
      "Step 0: accuracy = 0.13\n",
      "Step 100: accuracy = 0.88\n",
      "Step 200: accuracy = 0.90\n",
      "Step 300: accuracy = 0.93\n",
      "Step 400: accuracy = 0.94\n",
      "Step 500: accuracy = 0.95\n",
      "Step 600: accuracy = 0.95\n",
      "Step 700: accuracy = 0.95\n",
      "Step 800: accuracy = 0.96\n",
      "Step 900: accuracy = 0.96\n"
     ]
    }
   ],
   "source": [
    "init  =tf.global_variables_initializer()\n",
    "saver =tf.train.Saver() \n",
    "\"\"\"実行部分\"\"\"\n",
    "with tf.Session() as sess:\n",
    "    sess.run(init)\n",
    "    #テストデータをロード\n",
    "    test_images = mnist.test.images\n",
    "    test_labels = mnist.test.labels\n",
    "\n",
    "    for step in range(1000):\n",
    "        train_images, train_labels = mnist.train.next_batch(50)\n",
    "        sess.run(train_step, feed_dict={x:train_images ,y:train_labels})\n",
    "\n",
    "        #10階ごとに精度を検証\n",
    "        if step % 100 == 0:\n",
    "            acc_val = sess.run( accuracy, feed_dict={x:test_images, y:test_labels})\n",
    "            print('Step %d: accuracy = %.2f' % (step, acc_val))\n",
    "    saver.save(sess,\"ckpt/my_model\")"
   ]
  },
  {
   "cell_type": "code",
   "execution_count": 17,
   "metadata": {},
   "outputs": [
    {
     "name": "stdout",
     "output_type": "stream",
     "text": [
      "INFO:tensorflow:Restoring parameters from ckpt/my_model\n",
      "model was loaded: ckpt/my_model\n"
     ]
    }
   ],
   "source": [
    "with tf.Session() as sess:\n",
    "  ckpt_state = tf.train.get_checkpoint_state('ckpt/')\n",
    "  if ckpt_state:\n",
    "    last_model = ckpt_state.model_checkpoint_path\n",
    "    saver.restore(sess,last_model)\n",
    "    print(\"model was loaded:\", last_model)\n",
    "  else:\n",
    "    sess.run(init)\n",
    "    print(\"initialized\")"
   ]
  }
 ],
 "metadata": {
  "kernelspec": {
   "display_name": "Python 3",
   "language": "python",
   "name": "python3"
  },
  "language_info": {
   "codemirror_mode": {
    "name": "ipython",
    "version": 3
   },
   "file_extension": ".py",
   "mimetype": "text/x-python",
   "name": "python",
   "nbconvert_exporter": "python",
   "pygments_lexer": "ipython3",
   "version": "3.5.3"
  }
 },
 "nbformat": 4,
 "nbformat_minor": 2
}
