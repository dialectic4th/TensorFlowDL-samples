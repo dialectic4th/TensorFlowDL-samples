{
 "cells": [
  {
   "cell_type": "code",
   "execution_count": 1,
   "metadata": {},
   "outputs": [],
   "source": [
    "import tensorflow as tf"
   ]
  },
  {
   "cell_type": "code",
   "execution_count": 3,
   "metadata": {},
   "outputs": [
    {
     "name": "stdout",
     "output_type": "stream",
     "text": [
      "Tensor(\"const1_1:0\", shape=(), dtype=int32)\n",
      "<tf.Variable 'val1_1:0' shape=() dtype=int32_ref>\n"
     ]
    }
   ],
   "source": [
    "a = tf.constant(3, name='const1') #定数a \n",
    "b = tf.Variable(0, name='val1') #変数b\n",
    "print(a)\n",
    "print(b)"
   ]
  },
  {
   "cell_type": "markdown",
   "metadata": {},
   "source": [
    "- constant：定数　変更不可 出力できる\n",
    "- Variable：変数　変更可能"
   ]
  },
  {
   "cell_type": "code",
   "execution_count": 10,
   "metadata": {},
   "outputs": [
    {
     "name": "stdout",
     "output_type": "stream",
     "text": [
      "3\n"
     ]
    }
   ],
   "source": [
    "sess = tf.Session()\n",
    "print(sess.run(a))"
   ]
  },
  {
   "cell_type": "code",
   "execution_count": 27,
   "metadata": {},
   "outputs": [],
   "source": [
    "# aとbを足す\n",
    "add = tf.add(a,b)\n",
    "#変数bに足した結果をアサイン\n",
    "assign = tf.assign(b, add)\n",
    "c = tf.placeholder(tf.int32, name='input') #入力c dict型で与える　形だけ決めておく\n",
    "# アサインした結果とcを掛け算\n",
    "mul = tf.multiply(assign, c) #掛け算"
   ]
  },
  {
   "cell_type": "code",
   "execution_count": 28,
   "metadata": {},
   "outputs": [
    {
     "name": "stdout",
     "output_type": "stream",
     "text": [
      "9\n",
      "18\n",
      "27\n"
     ]
    }
   ],
   "source": [
    "#変数の初期化\n",
    "init = tf.global_variables_initializer()\n",
    "with tf.Session() as sess:\n",
    "    #初期化を実行\n",
    "    sess.run(init)\n",
    "    for i in range(3):\n",
    "        # 掛け算を計算するまでのループを実行\n",
    "        print(sess.run(mul, feed_dict={c:3}))"
   ]
  },
  {
   "cell_type": "code",
   "execution_count": null,
   "metadata": {},
   "outputs": [],
   "source": []
  }
 ],
 "metadata": {
  "kernelspec": {
   "display_name": "Python 3",
   "language": "python",
   "name": "python3"
  },
  "language_info": {
   "codemirror_mode": {
    "name": "ipython",
    "version": 3
   },
   "file_extension": ".py",
   "mimetype": "text/x-python",
   "name": "python",
   "nbconvert_exporter": "python",
   "pygments_lexer": "ipython3",
   "version": "3.5.3"
  }
 },
 "nbformat": 4,
 "nbformat_minor": 2
}
