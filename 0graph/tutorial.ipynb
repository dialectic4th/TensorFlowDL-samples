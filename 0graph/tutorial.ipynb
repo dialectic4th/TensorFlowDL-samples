{
 "cells": [
  {
   "cell_type": "markdown",
   "metadata": {},
   "source": [
    "- http://hiyoko9t.hatenadiary.jp/entry/2017/10/05/210419"
   ]
  },
  {
   "cell_type": "code",
   "execution_count": 1,
   "metadata": {},
   "outputs": [],
   "source": [
    "import tensorflow as tf"
   ]
  },
  {
   "cell_type": "code",
   "execution_count": 3,
   "metadata": {},
   "outputs": [
    {
     "name": "stdout",
     "output_type": "stream",
     "text": [
      "Tensor(\"Const_2:0\", shape=(), dtype=float32)\n",
      "Tensor(\"Const_3:0\", shape=(), dtype=float32)\n"
     ]
    }
   ],
   "source": [
    "node1 = tf.constant(3.0, dtype=tf.float32)\n",
    "node2 = tf.constant(4.0) # 暗にtf.float32を宣言\n",
    "print(node1)\n",
    "print(node2)"
   ]
  },
  {
   "cell_type": "code",
   "execution_count": 4,
   "metadata": {},
   "outputs": [
    {
     "name": "stdout",
     "output_type": "stream",
     "text": [
      "[3.0, 4.0]\n"
     ]
    }
   ],
   "source": [
    "sess = tf.Session()\n",
    "print(sess.run([node1, node2]))"
   ]
  },
  {
   "cell_type": "code",
   "execution_count": 7,
   "metadata": {},
   "outputs": [
    {
     "name": "stdout",
     "output_type": "stream",
     "text": [
      "node3: Tensor(\"Add_1:0\", shape=(), dtype=float32)\n",
      "sess.run(node3): 7.0\n"
     ]
    }
   ],
   "source": [
    "# 事前に値を与えてからの計算グラフ\n",
    "node3 = tf.add(node1, node2)\n",
    "print(\"node3:\", node3)\n",
    "print(\"sess.run(node3):\", sess.run(node3))"
   ]
  },
  {
   "cell_type": "code",
   "execution_count": 23,
   "metadata": {},
   "outputs": [
    {
     "name": "stdout",
     "output_type": "stream",
     "text": [
      "7.5\n",
      "[3. 7.]\n"
     ]
    }
   ],
   "source": [
    "# 入力型として計算グラフの書き方\n",
    "a = tf.placeholder(tf.float32)\n",
    "b = tf.placeholder(tf.float32)\n",
    "adder_node = a + b  # tf.add(a, b)のショートカット\n",
    "print(sess.run(adder_node, {a: 3, b: 4.5}))\n",
    "print(sess.run(adder_node, {a: [1, 3], b: [2, 4]}))"
   ]
  },
  {
   "cell_type": "code",
   "execution_count": 9,
   "metadata": {},
   "outputs": [
    {
     "name": "stdout",
     "output_type": "stream",
     "text": [
      "22.5\n"
     ]
    }
   ],
   "source": [
    "# 計算グラフを追加\n",
    "add_and_triple = adder_node * 3\n",
    "print(sess.run(add_and_triple, {a: 3, b: 4.5}))"
   ]
  },
  {
   "cell_type": "code",
   "execution_count": 64,
   "metadata": {},
   "outputs": [
    {
     "name": "stdout",
     "output_type": "stream",
     "text": [
      "[0.         0.3        0.6        0.90000004]\n"
     ]
    }
   ],
   "source": [
    "# 変数として計算グラフを書く .3 = 0.3\n",
    "W = tf.Variable([.3], dtype=tf.float32)\n",
    "b = tf.Variable([-.3], dtype=tf.float32)\n",
    "x = tf.placeholder(tf.float32)\n",
    "linear_model = W * x + b\n",
    "\n",
    "# 変数処理を行うinitializerを初期化する\n",
    "init = tf.global_variables_initializer()\n",
    "sess.run(init)\n",
    "print(sess.run(linear_model, {x: [1, 2, 3, 4]}))\n",
    "\n",
    "# y=wx+bとして計算している"
   ]
  },
  {
   "cell_type": "code",
   "execution_count": 65,
   "metadata": {},
   "outputs": [
    {
     "name": "stdout",
     "output_type": "stream",
     "text": [
      "23.66\n"
     ]
    }
   ],
   "source": [
    "# 上記で計算した値と実際のyの二乗誤差を取る\n",
    "y = tf.placeholder(tf.float32)\n",
    "squared_deltas = tf.square(linear_model - y) #各サンプルについて、二乗誤差を計算\n",
    "loss = tf.reduce_sum(squared_deltas)#sumで畳み込む\n",
    "print(sess.run(loss, {x: [1, 2, 3, 4], y: [0, -1, -2, -3]}))"
   ]
  },
  {
   "cell_type": "code",
   "execution_count": 70,
   "metadata": {},
   "outputs": [
    {
     "name": "stdout",
     "output_type": "stream",
     "text": [
      "[ 0. -1. -2. -3.]\n",
      "0.0\n"
     ]
    }
   ],
   "source": [
    "#計算グラフの変数を変更する\n",
    "fixW = tf.assign(W, [-1.])\n",
    "fixb = tf.assign(b, [1.])\n",
    "sess.run([fixW, fixb])\n",
    "\n",
    "print(sess.run(linear_model, {x: [1, 2, 3, 4]}))\n",
    "print(sess.run(loss, {x: [1, 2, 3, 4], y: [0, -1, -2, -3]}))"
   ]
  },
  {
   "cell_type": "markdown",
   "metadata": {},
   "source": [
    "## 機械学習による最適化をやってみる"
   ]
  },
  {
   "cell_type": "code",
   "execution_count": 89,
   "metadata": {},
   "outputs": [],
   "source": [
    "#オプティマイザー\n",
    "optimizer = tf.train.GradientDescentOptimizer(0.01)\n",
    "train = optimizer.minimize(loss)"
   ]
  },
  {
   "cell_type": "code",
   "execution_count": 90,
   "metadata": {},
   "outputs": [
    {
     "name": "stdout",
     "output_type": "stream",
     "text": [
      "[array([-0.9999969], dtype=float32), array([0.9999908], dtype=float32)]\n"
     ]
    }
   ],
   "source": [
    "sess.run(init) # 変数のリセット\n",
    "for i in range(1000):\n",
    "  sess.run(train, {x: [1, 2, 3, 4], y: [0, -1, -2, -3]})\n",
    "\n",
    "print(sess.run([W, b]))"
   ]
  },
  {
   "cell_type": "markdown",
   "metadata": {},
   "source": [
    "# 単回帰モデルのまとめ"
   ]
  },
  {
   "cell_type": "code",
   "execution_count": 91,
   "metadata": {},
   "outputs": [
    {
     "name": "stdout",
     "output_type": "stream",
     "text": [
      "W: [-0.9999969] b: [0.9999908] loss: 5.6999738e-11\n"
     ]
    }
   ],
   "source": [
    "import tensorflow as tf\n",
    "\n",
    "# モデルパラメータ\n",
    "W = tf.Variable([.3], dtype=tf.float32)\n",
    "b = tf.Variable([-.3], dtype=tf.float32)\n",
    "# モデルの入出力\n",
    "x = tf.placeholder(tf.float32)\n",
    "linear_model = W * x + b\n",
    "y = tf.placeholder(tf.float32)\n",
    "\n",
    "# ロス\n",
    "loss = tf.reduce_sum(tf.square(linear_model - y)) # sum of the squares\n",
    "# オプティマイザ\n",
    "optimizer = tf.train.GradientDescentOptimizer(0.01)\n",
    "train = optimizer.minimize(loss)\n",
    "\n",
    "# 訓練データ\n",
    "x_train = [1, 2, 3, 4]\n",
    "y_train = [0, -1, -2, -3]\n",
    "# 訓練ループ\n",
    "init = tf.global_variables_initializer()\n",
    "sess = tf.Session()\n",
    "sess.run(init) # reset values to wrong\n",
    "for i in range(1000):\n",
    "  sess.run(train, {x: x_train, y: y_train})\n",
    "\n",
    "# 訓練精度の評価\n",
    "curr_W, curr_b, curr_loss = sess.run([W, b, loss], {x: x_train, y: y_train})\n",
    "print(\"W: %s b: %s loss: %s\"%(curr_W, curr_b, curr_loss))"
   ]
  },
  {
   "cell_type": "markdown",
   "metadata": {},
   "source": [
    "## tf.estimator を使うと、機械学習部分が簡単に書ける"
   ]
  },
  {
   "cell_type": "code",
   "execution_count": 92,
   "metadata": {},
   "outputs": [
    {
     "name": "stdout",
     "output_type": "stream",
     "text": [
      "INFO:tensorflow:Using default config.\n",
      "WARNING:tensorflow:Using temporary folder as model directory: /tmp/tmptyhh2wpk\n",
      "INFO:tensorflow:Using config: {'_global_id_in_cluster': 0, '_save_checkpoints_secs': 600, '_save_checkpoints_steps': None, '_service': None, '_keep_checkpoint_every_n_hours': 10000, '_evaluation_master': '', '_log_step_count_steps': 100, '_session_config': None, '_num_worker_replicas': 1, '_cluster_spec': <tensorflow.python.training.server_lib.ClusterSpec object at 0x7f154e262dd8>, '_save_summary_steps': 100, '_num_ps_replicas': 0, '_is_chief': True, '_task_type': 'worker', '_master': '', '_task_id': 0, '_tf_random_seed': None, '_keep_checkpoint_max': 5, '_model_dir': '/tmp/tmptyhh2wpk'}\n",
      "INFO:tensorflow:Calling model_fn.\n",
      "INFO:tensorflow:Done calling model_fn.\n",
      "INFO:tensorflow:Create CheckpointSaverHook.\n",
      "INFO:tensorflow:Graph was finalized.\n",
      "INFO:tensorflow:Running local_init_op.\n",
      "INFO:tensorflow:Done running local_init_op.\n",
      "INFO:tensorflow:Saving checkpoints for 1 into /tmp/tmptyhh2wpk/model.ckpt.\n",
      "INFO:tensorflow:step = 1, loss = 6.0\n",
      "INFO:tensorflow:global_step/sec: 1062.44\n",
      "INFO:tensorflow:step = 101, loss = 0.056731947 (0.096 sec)\n",
      "INFO:tensorflow:global_step/sec: 1402.24\n",
      "INFO:tensorflow:step = 201, loss = 0.016188608 (0.072 sec)\n",
      "INFO:tensorflow:global_step/sec: 1322.84\n",
      "INFO:tensorflow:step = 301, loss = 0.0018295541 (0.076 sec)\n",
      "INFO:tensorflow:global_step/sec: 1363.58\n",
      "INFO:tensorflow:step = 401, loss = 0.0005186096 (0.074 sec)\n",
      "INFO:tensorflow:global_step/sec: 1358.23\n",
      "INFO:tensorflow:step = 501, loss = 0.0001027439 (0.073 sec)\n",
      "INFO:tensorflow:global_step/sec: 1384.38\n",
      "INFO:tensorflow:step = 601, loss = 6.054055e-06 (0.072 sec)\n",
      "INFO:tensorflow:global_step/sec: 1382.64\n",
      "INFO:tensorflow:step = 701, loss = 6.4460056e-07 (0.074 sec)\n",
      "INFO:tensorflow:global_step/sec: 1425.76\n",
      "INFO:tensorflow:step = 801, loss = 6.158257e-08 (0.069 sec)\n",
      "INFO:tensorflow:global_step/sec: 1563.76\n",
      "INFO:tensorflow:step = 901, loss = 2.2939634e-08 (0.064 sec)\n",
      "INFO:tensorflow:Saving checkpoints for 1000 into /tmp/tmptyhh2wpk/model.ckpt.\n",
      "INFO:tensorflow:Loss for final step: 3.3417145e-09.\n",
      "INFO:tensorflow:Calling model_fn.\n",
      "INFO:tensorflow:Done calling model_fn.\n",
      "INFO:tensorflow:Starting evaluation at 2018-04-24-04:42:39\n",
      "INFO:tensorflow:Graph was finalized.\n",
      "INFO:tensorflow:Restoring parameters from /tmp/tmptyhh2wpk/model.ckpt-1000\n",
      "INFO:tensorflow:Running local_init_op.\n",
      "INFO:tensorflow:Done running local_init_op.\n",
      "INFO:tensorflow:Finished evaluation at 2018-04-24-04:42:40\n",
      "INFO:tensorflow:Saving dict for global step 1000: average_loss = 1.0589417e-09, global_step = 1000, loss = 4.235767e-09\n",
      "INFO:tensorflow:Calling model_fn.\n",
      "INFO:tensorflow:Done calling model_fn.\n",
      "INFO:tensorflow:Starting evaluation at 2018-04-24-04:42:40\n",
      "INFO:tensorflow:Graph was finalized.\n",
      "INFO:tensorflow:Restoring parameters from /tmp/tmptyhh2wpk/model.ckpt-1000\n",
      "INFO:tensorflow:Running local_init_op.\n",
      "INFO:tensorflow:Done running local_init_op.\n",
      "INFO:tensorflow:Finished evaluation at 2018-04-24-04:42:41\n",
      "INFO:tensorflow:Saving dict for global step 1000: average_loss = 0.0025285736, global_step = 1000, loss = 0.0101142945\n",
      "train metrics: {'average_loss': 1.0589417e-09, 'loss': 4.235767e-09, 'global_step': 1000}\n",
      "eval metrics: {'average_loss': 0.0025285736, 'loss': 0.0101142945, 'global_step': 1000}\n"
     ]
    }
   ],
   "source": [
    "import tensorflow as tf\n",
    "# NumPy はデータのロード、計算、前処理によく用いられます。\n",
    "import numpy as np\n",
    "\n",
    "# 特徴量のリストの宣言。ここでは、一つの特徴量だけですが、他にも多くの、より複雑で有用な型が存在します。\n",
    "feature_columns = [tf.feature_column.numeric_column(\"x\", shape=[1])]\n",
    "\n",
    "# 推定器による訓練と評価。線形回帰や線形分類器、ニューラルネットワーク回帰、分類器など多くの準備された型が存在します。(ここでは線形回帰を用います)\n",
    "estimator = tf.estimator.LinearRegressor(feature_columns=feature_columns)\n",
    "\n",
    "# TFは、多くのデータセットの読み込みやセットアップに役立つメソッドが準備されています。ここでは、訓練データと評価データを使用します。\n",
    "x_train = np.array([1., 2., 3., 4.])\n",
    "y_train = np.array([0., -1., -2., -3.])\n",
    "x_eval = np.array([2., 5., 8., 1.])\n",
    "y_eval = np.array([-1.01, -4.1, -7, 0.])\n",
    "input_fn = tf.estimator.inputs.numpy_input_fn(\n",
    "    {\"x\": x_train}, y_train, batch_size=4, num_epochs=None, shuffle=True)\n",
    "train_input_fn = tf.estimator.inputs.numpy_input_fn(\n",
    "    {\"x\": x_train}, y_train, batch_size=4, num_epochs=1000, shuffle=False)\n",
    "eval_input_fn = tf.estimator.inputs.numpy_input_fn(\n",
    "    {\"x\": x_eval}, y_eval, batch_size=4, num_epochs=1000, shuffle=False)\n",
    "\n",
    "# 訓練データを用いて、訓練を1000ステップ実行\n",
    "estimator.train(input_fn=input_fn, steps=1000)\n",
    "\n",
    "# モデルの性能を評価\n",
    "train_metrics = estimator.evaluate(input_fn=train_input_fn)\n",
    "eval_metrics = estimator.evaluate(input_fn=eval_input_fn)\n",
    "print(\"train metrics: %r\"% train_metrics)\n",
    "print(\"eval metrics: %r\"% eval_metrics)"
   ]
  },
  {
   "cell_type": "markdown",
   "metadata": {},
   "source": [
    "# カスタムモデル"
   ]
  },
  {
   "cell_type": "code",
   "execution_count": 93,
   "metadata": {},
   "outputs": [
    {
     "name": "stdout",
     "output_type": "stream",
     "text": [
      "INFO:tensorflow:Using default config.\n",
      "WARNING:tensorflow:Using temporary folder as model directory: /tmp/tmpz66prm2b\n",
      "INFO:tensorflow:Using config: {'_global_id_in_cluster': 0, '_save_checkpoints_secs': 600, '_save_checkpoints_steps': None, '_service': None, '_keep_checkpoint_every_n_hours': 10000, '_evaluation_master': '', '_log_step_count_steps': 100, '_session_config': None, '_num_worker_replicas': 1, '_cluster_spec': <tensorflow.python.training.server_lib.ClusterSpec object at 0x7f154cb71a90>, '_save_summary_steps': 100, '_num_ps_replicas': 0, '_is_chief': True, '_task_type': 'worker', '_master': '', '_task_id': 0, '_tf_random_seed': None, '_keep_checkpoint_max': 5, '_model_dir': '/tmp/tmpz66prm2b'}\n",
      "INFO:tensorflow:Calling model_fn.\n",
      "INFO:tensorflow:Done calling model_fn.\n",
      "INFO:tensorflow:Create CheckpointSaverHook.\n",
      "INFO:tensorflow:Graph was finalized.\n",
      "INFO:tensorflow:Running local_init_op.\n",
      "INFO:tensorflow:Done running local_init_op.\n",
      "INFO:tensorflow:Saving checkpoints for 1 into /tmp/tmpz66prm2b/model.ckpt.\n",
      "INFO:tensorflow:step = 1, loss = 147.2298160517733\n",
      "INFO:tensorflow:global_step/sec: 853.391\n",
      "INFO:tensorflow:step = 101, loss = 0.10880186777468277 (0.118 sec)\n",
      "INFO:tensorflow:global_step/sec: 1377.68\n",
      "INFO:tensorflow:step = 201, loss = 0.009624103448045684 (0.073 sec)\n",
      "INFO:tensorflow:global_step/sec: 1587.34\n",
      "INFO:tensorflow:step = 301, loss = 0.0008542570182996683 (0.063 sec)\n",
      "INFO:tensorflow:global_step/sec: 1256.98\n",
      "INFO:tensorflow:step = 401, loss = 5.4491568524954406e-05 (0.079 sec)\n",
      "INFO:tensorflow:global_step/sec: 1460.34\n",
      "INFO:tensorflow:step = 501, loss = 6.008870571805013e-06 (0.069 sec)\n",
      "INFO:tensorflow:global_step/sec: 1468.7\n",
      "INFO:tensorflow:step = 601, loss = 2.2512946163025637e-07 (0.067 sec)\n",
      "INFO:tensorflow:global_step/sec: 1485.22\n",
      "INFO:tensorflow:step = 701, loss = 7.043061662553731e-08 (0.068 sec)\n",
      "INFO:tensorflow:global_step/sec: 1187.97\n",
      "INFO:tensorflow:step = 801, loss = 3.839279263854632e-09 (0.085 sec)\n",
      "INFO:tensorflow:global_step/sec: 1315.69\n",
      "INFO:tensorflow:step = 901, loss = 6.506773381199297e-10 (0.075 sec)\n",
      "INFO:tensorflow:Saving checkpoints for 1000 into /tmp/tmpz66prm2b/model.ckpt.\n",
      "INFO:tensorflow:Loss for final step: 9.393647406285746e-11.\n",
      "INFO:tensorflow:Calling model_fn.\n",
      "INFO:tensorflow:Done calling model_fn.\n",
      "INFO:tensorflow:Starting evaluation at 2018-04-24-04:48:23\n",
      "INFO:tensorflow:Graph was finalized.\n",
      "INFO:tensorflow:Restoring parameters from /tmp/tmpz66prm2b/model.ckpt-1000\n",
      "INFO:tensorflow:Running local_init_op.\n",
      "INFO:tensorflow:Done running local_init_op.\n",
      "INFO:tensorflow:Finished evaluation at 2018-04-24-04:48:24\n",
      "INFO:tensorflow:Saving dict for global step 1000: global_step = 1000, loss = 4.5965877e-11\n",
      "INFO:tensorflow:Calling model_fn.\n",
      "INFO:tensorflow:Done calling model_fn.\n",
      "INFO:tensorflow:Starting evaluation at 2018-04-24-04:48:24\n",
      "INFO:tensorflow:Graph was finalized.\n",
      "INFO:tensorflow:Restoring parameters from /tmp/tmpz66prm2b/model.ckpt-1000\n",
      "INFO:tensorflow:Running local_init_op.\n",
      "INFO:tensorflow:Done running local_init_op.\n",
      "INFO:tensorflow:Finished evaluation at 2018-04-24-04:48:25\n",
      "INFO:tensorflow:Saving dict for global step 1000: global_step = 1000, loss = 0.010101012\n",
      "train metrics: {'loss': 4.5965877e-11, 'global_step': 1000}\n",
      "eval metrics: {'loss': 0.010101012, 'global_step': 1000}\n"
     ]
    }
   ],
   "source": [
    "import numpy as np\n",
    "import tensorflow as tf\n",
    "\n",
    "# 特徴量の宣言\n",
    "def model_fn(features, labels, mode):\n",
    "  # 線形モデルと予測変数のビルド\n",
    "  W = tf.get_variable(\"W\", [1], dtype=tf.float64)\n",
    "  b = tf.get_variable(\"b\", [1], dtype=tf.float64)\n",
    "  y = W * features['x'] + b\n",
    "  # ロス\n",
    "  loss = tf.reduce_sum(tf.square(y - labels))\n",
    "  # 訓練\n",
    "  global_step = tf.train.get_global_step()\n",
    "  optimizer = tf.train.GradientDescentOptimizer(0.01)\n",
    "  train = tf.group(optimizer.minimize(loss),\n",
    "                   tf.assign_add(global_step, 1))\n",
    "  # 推定器との接続\n",
    "  return tf.estimator.EstimatorSpec(\n",
    "      mode=mode,\n",
    "      predictions=y,\n",
    "      loss=loss,\n",
    "      train_op=train)\n",
    "\n",
    "estimator = tf.estimator.Estimator(model_fn=model_fn)\n",
    "# データセットの定義\n",
    "x_train = np.array([1., 2., 3., 4.])\n",
    "y_train = np.array([0., -1., -2., -3.])\n",
    "x_eval = np.array([2., 5., 8., 1.])\n",
    "y_eval = np.array([-1.01, -4.1, -7, 0.])\n",
    "input_fn = tf.estimator.inputs.numpy_input_fn(\n",
    "    {\"x\": x_train}, y_train, batch_size=4, num_epochs=None, shuffle=True)\n",
    "train_input_fn = tf.estimator.inputs.numpy_input_fn(\n",
    "    {\"x\": x_train}, y_train, batch_size=4, num_epochs=1000, shuffle=False)\n",
    "eval_input_fn = tf.estimator.inputs.numpy_input_fn(\n",
    "    {\"x\": x_eval}, y_eval, batch_size=4, num_epochs=1000, shuffle=False)\n",
    "\n",
    "# 訓練\n",
    "estimator.train(input_fn=input_fn, steps=1000)\n",
    "# モデルの評価\n",
    "train_metrics = estimator.evaluate(input_fn=train_input_fn)\n",
    "eval_metrics = estimator.evaluate(input_fn=eval_input_fn)\n",
    "print(\"train metrics: %r\"% train_metrics)\n",
    "print(\"eval metrics: %r\"% eval_metrics)"
   ]
  }
 ],
 "metadata": {
  "kernelspec": {
   "display_name": "Python 3",
   "language": "python",
   "name": "python3"
  },
  "language_info": {
   "codemirror_mode": {
    "name": "ipython",
    "version": 3
   },
   "file_extension": ".py",
   "mimetype": "text/x-python",
   "name": "python",
   "nbconvert_exporter": "python",
   "pygments_lexer": "ipython3",
   "version": "3.5.3"
  }
 },
 "nbformat": 4,
 "nbformat_minor": 2
}
