{
 "cells": [
  {
   "cell_type": "markdown",
   "metadata": {},
   "source": [
    "- x:784　→64 →y^:10 "
   ]
  },
  {
   "cell_type": "code",
   "execution_count": 12,
   "metadata": {},
   "outputs": [
    {
     "name": "stdout",
     "output_type": "stream",
     "text": [
      "Extracting data/train-images-idx3-ubyte.gz\n",
      "Extracting data/train-labels-idx1-ubyte.gz\n",
      "Extracting data/t10k-images-idx3-ubyte.gz\n",
      "Extracting data/t10k-labels-idx1-ubyte.gz\n"
     ]
    }
   ],
   "source": [
    "from tensorflow.examples.tutorials.mnist import input_data\n",
    "import tensorflow as tf\n",
    "\n",
    "#mnistデータを格納したオブジェクトを呼び出す\n",
    "mnist = input_data.read_data_sets(\"data/\", one_hot=True);"
   ]
  },
  {
   "cell_type": "markdown",
   "metadata": {},
   "source": [
    "## 計算グラフを定義"
   ]
  },
  {
   "cell_type": "code",
   "execution_count": 28,
   "metadata": {},
   "outputs": [],
   "source": [
    "#入力データを定義\n",
    "x = tf.placeholder(tf.float32, [None, 784])\n",
    "#入力層から中間層の重みと関数\n",
    "w_1 = tf.Variable(tf.truncated_normal([784, 256], stddev=0.1), name=\"w1\")\n",
    "b_1 = tf.Variable(tf.zeros([256]), name=\"b1\")\n",
    "h_1 = tf.nn.relu(tf.matmul(x, w_1) + b_1)\n",
    "\n",
    "#中間層から出力層の重みと関数\n",
    "w_2 = tf.Variable(tf.truncated_normal([256, 10], stddev=0.1), name=\"w2\")\n",
    "b_2 = tf.Variable(tf.zeros([10]), name=\"b2\")\n",
    "out = tf.nn.softmax(tf.matmul(h_1, w_2) + b_2)"
   ]
  },
  {
   "cell_type": "markdown",
   "metadata": {},
   "source": [
    "## 学習方法を定義"
   ]
  },
  {
   "cell_type": "code",
   "execution_count": 30,
   "metadata": {},
   "outputs": [],
   "source": [
    "#目的変数\n",
    "y = tf.placeholder(tf.float32, [None, 10])\n",
    "#誤差関数 平均2乗誤差　axisで平均を取る次元を指定できる >p.51\n",
    "loss = tf.reduce_mean(tf.square(y - out))\n",
    "#訓練\n",
    "train_step = tf.train.GradientDescentOptimizer(0.5).minimize(loss)\n",
    "#評価\n",
    "correct = tf.equal(tf.argmax(out,1), tf.argmax(y,1))\n",
    "accuracy = tf.reduce_mean(tf.cast(correct, tf.float32))\n",
    "\n",
    "#最終的にaccuracyに集約"
   ]
  },
  {
   "cell_type": "markdown",
   "metadata": {},
   "source": [
    "## 学習"
   ]
  },
  {
   "cell_type": "code",
   "execution_count": 33,
   "metadata": {},
   "outputs": [
    {
     "name": "stdout",
     "output_type": "stream",
     "text": [
      "Step 100: accuracy = 0.73\n",
      "Step 200: accuracy = 0.84\n",
      "Step 300: accuracy = 0.87\n",
      "Step 400: accuracy = 0.89\n",
      "Step 500: accuracy = 0.89\n",
      "Step 600: accuracy = 0.90\n",
      "Step 700: accuracy = 0.90\n",
      "Step 800: accuracy = 0.91\n",
      "Step 900: accuracy = 0.91\n",
      "Step 1000: accuracy = 0.91\n"
     ]
    }
   ],
   "source": [
    "with tf.Session() as sess:\n",
    "    #初期化\n",
    "    init =tf.global_variables_initializer()\n",
    "    sess.run(init)\n",
    "    \n",
    "    #テストデータをロード    \n",
    "    test_images = mnist.test.images    \n",
    "    test_labels = mnist.test.labels    \n",
    "    for i in range(1000):\n",
    "        step = i + 1\n",
    "        #毎回50個ずつバッチを取り出す\n",
    "        train_images, train_labels = mnist.train.next_batch(100)\n",
    "        sess.run(train_step, feed_dict={x:train_images ,y:train_labels})\n",
    "        \n",
    "        #100ステップごとに出力\n",
    "        if step % 100 == 0:\n",
    "            acc_val = sess.run(accuracy ,feed_dict={x:test_images, y:test_labels})\n",
    "            print('Step %d: accuracy = %.2f' % (step, acc_val))\n",
    "\n",
    "\n"
   ]
  }
 ],
 "metadata": {
  "kernelspec": {
   "display_name": "Python 3",
   "language": "python",
   "name": "python3"
  },
  "language_info": {
   "codemirror_mode": {
    "name": "ipython",
    "version": 3
   },
   "file_extension": ".py",
   "mimetype": "text/x-python",
   "name": "python",
   "nbconvert_exporter": "python",
   "pygments_lexer": "ipython3",
   "version": "3.5.3"
  }
 },
 "nbformat": 4,
 "nbformat_minor": 2
}
